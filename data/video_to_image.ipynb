{
 "cells": [
  {
   "cell_type": "code",
   "execution_count": 4,
   "id": "7efce6a3-a260-4436-9fc9-94919c25451b",
   "metadata": {},
   "outputs": [],
   "source": [
    "import os\n",
    "import cv2"
   ]
  },
  {
   "cell_type": "code",
   "execution_count": 5,
   "id": "d3b5f222-8053-4467-b224-8bebdc652b95",
   "metadata": {},
   "outputs": [],
   "source": [
    "video_folder = \"videos\"\n",
    "image_folder = \"images/train\""
   ]
  },
  {
   "cell_type": "code",
   "execution_count": 6,
   "id": "c77f8793-5117-4edb-8938-5240bd3b271e",
   "metadata": {},
   "outputs": [],
   "source": [
    "def video_to_image(video_name, output_folder):\n",
    "    file_name = os.path.basename(video_name)\n",
    "    file_name = \".\".join(file_name.split(\".\")[:-1])\n",
    "    \n",
    "    os.makedirs(os.path.join(output_folder, file_name), exist_ok=True)\n",
    "    \n",
    "    frame_idx = 0\n",
    "    cap = cv2.VideoCapture(video_name)\n",
    "    while cap.isOpened():\n",
    "        ret, frame = cap.read()\n",
    "        \n",
    "        # if frame is read correctly ret is True\n",
    "        if not ret:\n",
    "            print(f\"{file_name}: Saved {frame_idx} frames. Exiting ...\")\n",
    "            break\n",
    "            \n",
    "        path = os.path.join(output_folder, file_name, f\"{file_name}_{frame_idx:03}.jpg\")\n",
    "        frame_idx += 1\n",
    "        \n",
    "        cv2.imwrite(path, frame)"
   ]
  },
  {
   "cell_type": "code",
   "execution_count": 8,
   "id": "c46dbee0-d7f4-47b3-a079-4feb18612a95",
   "metadata": {},
   "outputs": [
    {
     "name": "stdout",
     "output_type": "stream",
     "text": [
      "_0-JkwZ9o4Q_5-5-rgb_front: Saved 66 frames. Exiting ...\n",
      "_2FBDaOPYig_1-3-rgb_front: Saved 126 frames. Exiting ...\n",
      "_0-JkwZ9o4Q_8-5-rgb_front: Saved 48 frames. Exiting ...\n",
      "_0-JkwZ9o4Q_9-5-rgb_front: Saved 381 frames. Exiting ...\n"
     ]
    }
   ],
   "source": [
    "video_names = os.listdir(video_folder)\n",
    "\n",
    "for name in video_names:\n",
    "    video_to_image(os.path.join(video_folder, name), image_folder)"
   ]
  },
  {
   "cell_type": "code",
   "execution_count": null,
   "id": "f5325874-e2c8-4c61-a17f-639287b11321",
   "metadata": {},
   "outputs": [],
   "source": [
    "# !python -c \"import cv2; print(cv2.getBuildInformation())\" | grep -i ffmpeg\n",
    "# !pip install opencv-contrib-python "
   ]
  }
 ],
 "metadata": {
  "kernelspec": {
   "display_name": "Python 3 (ipykernel)",
   "language": "python",
   "name": "python3"
  },
  "language_info": {
   "codemirror_mode": {
    "name": "ipython",
    "version": 3
   },
   "file_extension": ".py",
   "mimetype": "text/x-python",
   "name": "python",
   "nbconvert_exporter": "python",
   "pygments_lexer": "ipython3",
   "version": "3.10.12"
  }
 },
 "nbformat": 4,
 "nbformat_minor": 5
}
